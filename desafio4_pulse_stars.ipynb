{
 "cells": [
  {
   "cell_type": "markdown",
   "metadata": {},
   "source": [
    "# Desafio 4\n",
    "\n",
    "Neste desafio, iremos praticar nossos conhecimentos sobre distribuições de probabilidade. Para isso,\n",
    "dividiremos este desafio em duas partes:\n",
    "    \n",
    "1. A primeira parte contará com 3 questões sobre um *data set* artificial com dados de uma amostra normal e\n",
    "    uma binomial.\n",
    "2. A segunda parte será sobre a análise da distribuição de uma variável do _data set_ [Pulsar Star](https://archive.ics.uci.edu/ml/datasets/HTRU2), contendo 2 questões.\n",
    "\n",
    "> Obs.: Por favor, não modifique o nome das funções de resposta."
   ]
  },
  {
   "cell_type": "markdown",
   "metadata": {},
   "source": [
    "## _Setup_ geral"
   ]
  },
  {
   "cell_type": "code",
   "execution_count": 2,
   "metadata": {},
   "outputs": [],
   "source": [
    "import pandas as pd\n",
    "import matplotlib.pyplot as plt\n",
    "import numpy as np\n",
    "import scipy.stats as sct\n",
    "import seaborn as sns\n",
    "from statsmodels.distributions.empirical_distribution import ECDF"
   ]
  },
  {
   "cell_type": "code",
   "execution_count": 20,
   "metadata": {},
   "outputs": [],
   "source": [
    "# %matplotlib inline\n",
    "\n",
    "from IPython.core.pylabtools import figsize\n",
    "\n",
    "\n",
    "figsize(12, 8)\n",
    "\n",
    "sns.set()"
   ]
  },
  {
   "cell_type": "markdown",
   "metadata": {},
   "source": [
    "## Parte 1"
   ]
  },
  {
   "cell_type": "markdown",
   "metadata": {},
   "source": [
    "### _Setup_ da parte 1"
   ]
  },
  {
   "cell_type": "code",
   "execution_count": 4,
   "metadata": {},
   "outputs": [],
   "source": [
    "np.random.seed(42)\n",
    "    \n",
    "dataframe = pd.DataFrame({\"normal\": sct.norm.rvs(20, 4, size=10000),\n",
    "                     \"binomial\": sct.binom.rvs(100, 0.2, size=10000)})"
   ]
  },
  {
   "cell_type": "markdown",
   "metadata": {},
   "source": [
    "## Inicie sua análise a partir da parte 1 a partir daqui"
   ]
  },
  {
   "cell_type": "code",
   "execution_count": 46,
   "metadata": {},
   "outputs": [
    {
     "name": "stdout",
     "output_type": "stream",
     "text": [
      "0.31 -0.01 -0.316\n",
      "[0.684, 0.954, 0.997]\n",
      "20.097 16.331224122412237\n",
      "19.991456066526293 16.110987985368915\n",
      "0.106 0.22\n"
     ]
    }
   ],
   "source": [
    "# Sua análise da parte 1 começa aqui.\n",
    "#dataframe.head()\n",
    "#dataframe.info()\n",
    "#dataframe.describe()\n",
    "\n",
    "# Q1: tentativas\n",
    "q1_norm = dataframe['normal'].quantile(.25)\n",
    "q2_norm = dataframe['normal'].quantile(.50)\n",
    "q3_norm = dataframe['normal'].quantile(.75)\n",
    "\n",
    "q1_binom = dataframe['binomial'].quantile(.25)\n",
    "q2_binom = dataframe['binomial'].quantile(.50)\n",
    "q3_binom = dataframe['binomial'].quantile(.75)\n",
    "\n",
    "dif1 = q1_norm - q1_binom\n",
    "dif2 = q2_norm - q2_binom\n",
    "dif3 = q3_norm - q3_binom\n",
    "print(dif1.round(3), dif2.round(3), dif3.round(3)) \n",
    "\n",
    "# Q2: tentativas\n",
    "x = dataframe['normal'].mean()\n",
    "s = dataframe['normal'].std()\n",
    "ecdf = ECDF(dataframe['normal'])\n",
    "intervalo_min1 = x - s\n",
    "intervalo_max1 = x + s\n",
    "intervalo_min2 = x - (2*s)\n",
    "intervalo_max2 = x + (2*s)\n",
    "intervalo_min3 = x - (3*s)\n",
    "intervalo_max3 = x + (3*s)\n",
    "\n",
    "df_1 = ecdf(intervalo_max1) - ecdf(intervalo_min1)\n",
    "df_2 = ecdf(intervalo_max2) - ecdf(intervalo_min2)\n",
    "df_3 = ecdf(intervalo_max3) - ecdf(intervalo_min3)\n",
    "print([df_1.round(3), df_2.round(3), df_3.round(3)])\n",
    "\n",
    "# Q3: tentativas\n",
    "m_binom = dataframe['binomial'].mean()\n",
    "v_binom = dataframe['binomial'].var()\n",
    "print(m_binom, v_binom)\n",
    "\n",
    "m_norm = dataframe['normal'].mean()\n",
    "v_norm = dataframe['normal'].var()\n",
    "print(m_norm, v_norm)\n",
    "\n",
    "dif_mean = m_binom - m_norm\n",
    "dif_var = v_binom - v_norm\n",
    "print(dif_mean.round(3), dif_var.round(3))"
   ]
  },
  {
   "cell_type": "markdown",
   "metadata": {},
   "source": [
    "## Questão 1\n",
    "\n",
    "Qual a diferença entre os quartis (Q1, Q2 e Q3) das variáveis `normal` e `binomial` de `dataframe`? Responda como uma tupla de três elementos arredondados para três casas decimais.\n",
    "\n",
    "Em outra palavras, sejam `q1_norm`, `q2_norm` e `q3_norm` os quantis da variável `normal` e `q1_binom`, `q2_binom` e `q3_binom` os quantis da variável `binom`, qual a diferença `(q1_norm - q1 binom, q2_norm - q2_binom, q3_norm - q3_binom)`?"
   ]
  },
  {
   "cell_type": "code",
   "execution_count": 52,
   "metadata": {},
   "outputs": [],
   "source": [
    "def q1():\n",
    "    q1_norm = dataframe['normal'].quantile(.25)\n",
    "    q2_norm = dataframe['normal'].quantile(.50)\n",
    "    q3_norm = dataframe['normal'].quantile(.75)\n",
    "    q1_binom = dataframe['binomial'].quantile(.25)\n",
    "    q2_binom = dataframe['binomial'].quantile(.50)\n",
    "    q3_binom = dataframe['binomial'].quantile(.75)\n",
    "    dif1 = q1_norm - q1_binom\n",
    "    dif2 = q2_norm - q2_binom\n",
    "    dif3 = q3_norm - q3_binom\n",
    "    return (dif1.round(3), dif2.round(3), dif3.round(3)) \n",
    "    pass"
   ]
  },
  {
   "cell_type": "markdown",
   "metadata": {},
   "source": [
    "Para refletir:\n",
    "\n",
    "* Você esperava valores dessa magnitude?\n",
    "\n",
    "* Você é capaz de explicar como distribuições aparentemente tão diferentes (discreta e contínua, por exemplo) conseguem dar esses valores?"
   ]
  },
  {
   "cell_type": "markdown",
   "metadata": {},
   "source": [
    "## Questão 2\n",
    "\n",
    "Considere o intervalo $[\\bar{x} - s, \\bar{x} + s]$, onde $\\bar{x}$ é a média amostral e $s$ é o desvio padrão. Qual a probabilidade nesse intervalo, calculada pela função de distribuição acumulada empírica (CDF empírica) da variável `normal`? Responda como uma único escalar arredondado para três casas decimais."
   ]
  },
  {
   "cell_type": "code",
   "execution_count": 53,
   "metadata": {},
   "outputs": [],
   "source": [
    "def q2():\n",
    "    x = dataframe['normal'].mean()\n",
    "    s = dataframe['normal'].std()\n",
    "    ecdf = ECDF(dataframe['normal'])\n",
    "    intervalo_min = x - s\n",
    "    intervalo_max = x + s\n",
    "    df_1 = ecdf(intervalo_max) - ecdf(intervalo_min)\n",
    "    return np.asscalar(df_1.round(3))\n",
    "    pass"
   ]
  },
  {
   "cell_type": "markdown",
   "metadata": {},
   "source": [
    "Para refletir:\n",
    "\n",
    "* Esse valor se aproxima do esperado teórico?\n",
    "* Experimente também para os intervalos $[\\bar{x} - 2s, \\bar{x} + 2s]$ e $[\\bar{x} - 3s, \\bar{x} + 3s]$."
   ]
  },
  {
   "cell_type": "markdown",
   "metadata": {},
   "source": [
    "## Questão 3\n",
    "\n",
    "Qual é a diferença entre as médias e as variâncias das variáveis `binomial` e `normal`? Responda como uma tupla de dois elementos arredondados para três casas decimais.\n",
    "\n",
    "Em outras palavras, sejam `m_binom` e `v_binom` a média e a variância da variável `binomial`, e `m_norm` e `v_norm` a média e a variância da variável `normal`. Quais as diferenças `(m_binom - m_norm, v_binom - v_norm)`?"
   ]
  },
  {
   "cell_type": "code",
   "execution_count": 44,
   "metadata": {},
   "outputs": [],
   "source": [
    "def q3():\n",
    "    m_binom = dataframe['binomial'].mean()\n",
    "    v_binom = dataframe['binomial'].var()\n",
    "    m_norm = dataframe['normal'].mean()\n",
    "    v_norm = dataframe['normal'].var()\n",
    "    dif_mean = m_binom - m_norm\n",
    "    dif_var = v_binom - v_norm\n",
    "    return (dif_mean.round(3), dif_var.round(3))\n",
    "    pass"
   ]
  },
  {
   "cell_type": "markdown",
   "metadata": {},
   "source": [
    "Para refletir:\n",
    "\n",
    "* Você esperava valore dessa magnitude?\n",
    "* Qual o efeito de aumentar ou diminuir $n$ (atualmente 100) na distribuição da variável `binomial`?"
   ]
  },
  {
   "cell_type": "markdown",
   "metadata": {},
   "source": [
    "## Parte 2"
   ]
  },
  {
   "cell_type": "markdown",
   "metadata": {},
   "source": [
    "### _Setup_ da parte 2"
   ]
  },
  {
   "cell_type": "code",
   "execution_count": 48,
   "metadata": {},
   "outputs": [],
   "source": [
    "stars = pd.read_csv(\"pulsar_stars.csv\")\n",
    "\n",
    "stars.rename({old_name: new_name\n",
    "              for (old_name, new_name)\n",
    "              in zip(stars.columns,\n",
    "                     [\"mean_profile\", \"sd_profile\", \"kurt_profile\", \"skew_profile\", \"mean_curve\", \"sd_curve\", \"kurt_curve\", \"skew_curve\", \"target\"])\n",
    "             },\n",
    "             axis=1, inplace=True)\n",
    "\n",
    "stars.loc[:, \"target\"] = stars.target.astype(bool)"
   ]
  },
  {
   "cell_type": "markdown",
   "metadata": {},
   "source": [
    "## Inicie sua análise da parte 2 a partir daqui"
   ]
  },
  {
   "cell_type": "code",
   "execution_count": 141,
   "metadata": {},
   "outputs": [
    {
     "name": "stdout",
     "output_type": "stream",
     "text": [
      "[-0.6744897501960817, 0.0, 0.6744897501960817]\n"
     ]
    },
    {
     "data": {
      "text/plain": [
       "(0.027, 0.04, -0.004)"
      ]
     },
     "execution_count": 141,
     "metadata": {},
     "output_type": "execute_result"
    }
   ],
   "source": [
    "# Sua análise da parte 2 começa aqui.\n",
    "#stars.head()\n",
    "#stars.info()\n",
    "#stars.describe()\n",
    "\n",
    "# Q4: tentativas\n",
    "false_pulsar_filtered = stars['mean_profile'][stars['target'] == 0]\n",
    "false_pulsar_mean_profile_standardized = [x for x in (false_pulsar_filtered - false_pulsar_filtered.mean()) / false_pulsar_filtered.std()]\n",
    "norm_80 = sct.norm.ppf(0.8)\n",
    "norm_90 = sct.norm.ppf(0.9)\n",
    "norm_95 = sct.norm.ppf(0.95)\n",
    "ecdf = ECDF(false_pulsar_mean_profile_standardized)\n",
    "tuple(ecdf([norm_80, norm_90, norm_95]).round(3))\n",
    "\n",
    "\n",
    "# Q5: tentativas\n",
    "norm_q1 = sct.norm.ppf(0.25)\n",
    "norm_q2 = sct.norm.ppf(0.50)\n",
    "norm_q3 = sct.norm.ppf(0.75)\n",
    "print([norm_q1,norm_q2,norm_q3])\n",
    "\n",
    "pulsar_q1 = pd.DataFrame(false_pulsar_mean_profile_standardized).quantile(.25)\n",
    "pulsar_q2 = pd.DataFrame(false_pulsar_mean_profile_standardized).quantile(.50)\n",
    "pulsar_q3 = pd.DataFrame(false_pulsar_mean_profile_standardized).quantile(.75)\n",
    "\n",
    "tuple([(pulsar_q1 - norm_q1)[0].round(3), (pulsar_q2 - norm_q2)[0].round(3), (pulsar_q3 - norm_q3)[0].round(3)])"
   ]
  },
  {
   "cell_type": "markdown",
   "metadata": {},
   "source": [
    "## Questão 4\n",
    "\n",
    "Considerando a variável `mean_profile` de `stars`:\n",
    "\n",
    "1. Filtre apenas os valores de `mean_profile` onde `target == 0` (ou seja, onde a estrela não é um pulsar).\n",
    "2. Padronize a variável `mean_profile` filtrada anteriormente para ter média 0 e variância 1.\n",
    "\n",
    "Chamaremos a variável resultante de `false_pulsar_mean_profile_standardized`.\n",
    "\n",
    "Encontre os quantis teóricos para uma distribuição normal de média 0 e variância 1 para 0.80, 0.90 e 0.95 através da função `norm.ppf()` disponível em `scipy.stats`.\n",
    "\n",
    "Quais as probabilidade associadas a esses quantis utilizando a CDF empírica da variável `false_pulsar_mean_profile_standardized`? Responda como uma tupla de três elementos arredondados para três casas decimais."
   ]
  },
  {
   "cell_type": "code",
   "execution_count": 107,
   "metadata": {},
   "outputs": [],
   "source": [
    "def q4():\n",
    "    false_pulsar_filtered = stars['mean_profile'][stars['target'] == 0]\n",
    "    false_pulsar_mean_profile_standardized = [x for x in (false_pulsar_filtered - false_pulsar_filtered.mean()) / false_pulsar_filtered.std()]\n",
    "    norm_80 = sct.norm.ppf(0.8)\n",
    "    norm_90 = sct.norm.ppf(0.9)\n",
    "    norm_95 = sct.norm.ppf(0.95)\n",
    "    ecdf = ECDF(false_pulsar_mean_profile_standardized)\n",
    "    return tuple(ecdf([norm_80, norm_90, norm_95]).round(3))\n",
    "    pass"
   ]
  },
  {
   "cell_type": "markdown",
   "metadata": {},
   "source": [
    "Para refletir:\n",
    "\n",
    "* Os valores encontrados fazem sentido?\n",
    "* O que isso pode dizer sobre a distribuição da variável `false_pulsar_mean_profile_standardized`?"
   ]
  },
  {
   "cell_type": "markdown",
   "metadata": {},
   "source": [
    "## Questão 5\n",
    "\n",
    "Qual a diferença entre os quantis Q1, Q2 e Q3 de `false_pulsar_mean_profile_standardized` e os mesmos quantis teóricos de uma distribuição normal de média 0 e variância 1? Responda como uma tupla de três elementos arredondados para três casas decimais."
   ]
  },
  {
   "cell_type": "code",
   "execution_count": 142,
   "metadata": {},
   "outputs": [],
   "source": [
    "def q5():\n",
    "    norm_q1 = sct.norm.ppf(0.25)\n",
    "    norm_q2 = sct.norm.ppf(0.50)\n",
    "    norm_q3 = sct.norm.ppf(0.75)\n",
    "    pulsar_q1 = pd.DataFrame(false_pulsar_mean_profile_standardized).quantile(.25)\n",
    "    pulsar_q2 = pd.DataFrame(false_pulsar_mean_profile_standardized).quantile(.50)\n",
    "    pulsar_q3 = pd.DataFrame(false_pulsar_mean_profile_standardized).quantile(.75)\n",
    "    return tuple([(pulsar_q1 - norm_q1)[0].round(3), (pulsar_q2 - norm_q2)[0].round(3), (pulsar_q3 - norm_q3)[0].round(3)])\n",
    "    pass"
   ]
  },
  {
   "cell_type": "markdown",
   "metadata": {},
   "source": [
    "Para refletir:\n",
    "\n",
    "* Os valores encontrados fazem sentido?\n",
    "* O que isso pode dizer sobre a distribuição da variável `false_pulsar_mean_profile_standardized`?\n",
    "* Curiosidade: alguns testes de hipóteses sobre normalidade dos dados utilizam essa mesma abordagem."
   ]
  }
 ],
 "metadata": {
  "kernelspec": {
   "display_name": "Python 3",
   "language": "python",
   "name": "python3"
  },
  "language_info": {
   "codemirror_mode": {
    "name": "ipython",
    "version": 3
   },
   "file_extension": ".py",
   "mimetype": "text/x-python",
   "name": "python",
   "nbconvert_exporter": "python",
   "pygments_lexer": "ipython3",
   "version": "3.7.7"
  }
 },
 "nbformat": 4,
 "nbformat_minor": 2
}
